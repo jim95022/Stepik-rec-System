{
 "cells": [
  {
   "cell_type": "code",
   "execution_count": 44,
   "metadata": {},
   "outputs": [],
   "source": [
    "# Импорт библиотек\n",
    "import pandas as pd\n",
    "import requests\n",
    "from matplotlib import pyplot as plt\n",
    "from tqdm import tqdm "
   ]
  },
  {
   "cell_type": "code",
   "execution_count": 3,
   "metadata": {},
   "outputs": [],
   "source": [
    "constant_url = 'https://stepik.org:443/api/courses'"
   ]
  },
  {
   "cell_type": "code",
   "execution_count": 199,
   "metadata": {},
   "outputs": [
    {
     "name": "stderr",
     "output_type": "stream",
     "text": [
      "100%|██████████| 100/100 [02:29<00:00,  1.49s/it]\n"
     ]
    }
   ],
   "source": [
    "# Фильтры можно будет перестроить\n",
    "N_PAGES = 1000\n",
    "constant_url = 'https://stepik.org:443/api/courses'\n",
    "courses = []\n",
    "for i in tqdm(range(1, N_PAGES + 1)):\n",
    "    req = requests.get(constant_url, params={'page': i}).json()['courses']\n",
    "    # если словарь, то докидываем курс в список\n",
    "    if req.__class__ == {}.__class__:\n",
    "    \t# проверяем на условия\n",
    "    \tif req['learners_count'] >= 70 and req['lessons_count'] >= 10 \\\n",
    "    \tand req['quizzes_count'] >= 5:\n",
    "    \t\tcourses.append(r)\n",
    "    \telse:\n",
    "    \t\tpass\n",
    "    # если список, то разворачиваем список\n",
    "    elif req.__class__ == [].__class__:\n",
    "    \t#проверяем условия для каждого курса\n",
    "    \tfor j in req:\n",
    "    \t\tif j['learners_count'] >= 70 and j['lessons_count'] >= 10 \\\n",
    "    \t\tand j['quizzes_count'] >= 5:\n",
    "    \t\t\tcourses.append(j)\n",
    "    \t\telse:\n",
    "    \t\t\tpass\n",
    "        ",
    "data = pd.DataFrame(courses)\n"
   ]
  },
  {
   "cell_type": "code",
   "execution_count": 197,
   "metadata": {},
   "outputs": [
    {
     "data": {
      "text/html": [
       "<div>\n",
       "<style scoped>\n",
       "    .dataframe tbody tr th:only-of-type {\n",
       "        vertical-align: middle;\n",
       "    }\n",
       "\n",
       "    .dataframe tbody tr th {\n",
       "        vertical-align: top;\n",
       "    }\n",
       "\n",
       "    .dataframe thead th {\n",
       "        text-align: right;\n",
       "    }\n",
       "</style>\n",
       "<table border=\"1\" class=\"dataframe\">\n",
       "  <thead>\n",
       "    <tr style=\"text-align: right;\">\n",
       "      <th></th>\n",
       "      <th>id</th>\n",
       "      <th>total_units</th>\n",
       "      <th>learners_count</th>\n",
       "      <th>lessons_count</th>\n",
       "      <th>quizzes_count</th>\n",
       "    </tr>\n",
       "  </thead>\n",
       "  <tbody>\n",
       "    <tr>\n",
       "      <th>0</th>\n",
       "      <td>68091</td>\n",
       "      <td>41</td>\n",
       "      <td>73</td>\n",
       "      <td>41</td>\n",
       "      <td>37</td>\n",
       "    </tr>\n",
       "    <tr>\n",
       "      <th>1</th>\n",
       "      <td>66819</td>\n",
       "      <td>10</td>\n",
       "      <td>71</td>\n",
       "      <td>10</td>\n",
       "      <td>15</td>\n",
       "    </tr>\n",
       "    <tr>\n",
       "      <th>2</th>\n",
       "      <td>66792</td>\n",
       "      <td>17</td>\n",
       "      <td>84</td>\n",
       "      <td>17</td>\n",
       "      <td>100</td>\n",
       "    </tr>\n",
       "    <tr>\n",
       "      <th>3</th>\n",
       "      <td>66689</td>\n",
       "      <td>10</td>\n",
       "      <td>78</td>\n",
       "      <td>10</td>\n",
       "      <td>10</td>\n",
       "    </tr>\n",
       "  </tbody>\n",
       "</table>\n",
       "</div>"
      ],
      "text/plain": [
       "      id  total_units  learners_count  lessons_count  quizzes_count\n",
       "0  68091           41              73             41             37\n",
       "1  66819           10              71             10             15\n",
       "2  66792           17              84             17            100\n",
       "3  66689           10              78             10             10"
      ]
     },
     "execution_count": 197,
     "metadata": {},
     "output_type": "execute_result"
    }
   ],
   "source": [
    "pd.DataFrame(courses)[['id', 'total_units', 'learners_count', 'lessons_count', 'quizzes_count']]"
   ]
  },
  {
   "cell_type": "code",
   "execution_count": 186,
   "metadata": {},
   "outputs": [
    {
     "data": {
      "text/html": [
       "<div>\n",
       "<style scoped>\n",
       "    .dataframe tbody tr th:only-of-type {\n",
       "        vertical-align: middle;\n",
       "    }\n",
       "\n",
       "    .dataframe tbody tr th {\n",
       "        vertical-align: top;\n",
       "    }\n",
       "\n",
       "    .dataframe thead th {\n",
       "        text-align: right;\n",
       "    }\n",
       "</style>\n",
       "<table border=\"1\" class=\"dataframe\">\n",
       "  <thead>\n",
       "    <tr style=\"text-align: right;\">\n",
       "      <th></th>\n",
       "      <th>id</th>\n",
       "      <th>total_units</th>\n",
       "      <th>learners_count</th>\n",
       "      <th>lessons_count</th>\n",
       "      <th>quizzes_count</th>\n",
       "    </tr>\n",
       "  </thead>\n",
       "  <tbody>\n",
       "    <tr>\n",
       "      <th>0</th>\n",
       "      <td>69108</td>\n",
       "      <td>1</td>\n",
       "      <td>0</td>\n",
       "      <td>0</td>\n",
       "      <td>0</td>\n",
       "    </tr>\n",
       "    <tr>\n",
       "      <th>1</th>\n",
       "      <td>69095</td>\n",
       "      <td>2</td>\n",
       "      <td>0</td>\n",
       "      <td>0</td>\n",
       "      <td>0</td>\n",
       "    </tr>\n",
       "    <tr>\n",
       "      <th>2</th>\n",
       "      <td>69091</td>\n",
       "      <td>2</td>\n",
       "      <td>0</td>\n",
       "      <td>0</td>\n",
       "      <td>0</td>\n",
       "    </tr>\n",
       "    <tr>\n",
       "      <th>3</th>\n",
       "      <td>69085</td>\n",
       "      <td>2</td>\n",
       "      <td>0</td>\n",
       "      <td>0</td>\n",
       "      <td>0</td>\n",
       "    </tr>\n",
       "    <tr>\n",
       "      <th>4</th>\n",
       "      <td>69083</td>\n",
       "      <td>3</td>\n",
       "      <td>0</td>\n",
       "      <td>0</td>\n",
       "      <td>0</td>\n",
       "    </tr>\n",
       "  </tbody>\n",
       "</table>\n",
       "</div>"
      ],
      "text/plain": [
       "      id  total_units  learners_count  lessons_count  quizzes_count\n",
       "0  69108            1               0              0              0\n",
       "1  69095            2               0              0              0\n",
       "2  69091            2               0              0              0\n",
       "3  69085            2               0              0              0\n",
       "4  69083            3               0              0              0"
      ]
     },
     "execution_count": 186,
     "metadata": {},
     "output_type": "execute_result"
    }
   ],
   "source": [
    "data[['id', 'total_units', 'learners_count', 'lessons_count', 'quizzes_count']].head() "
   ]
  },
  {
   "cell_type": "code",
   "execution_count": 200,
   "metadata": {},
   "outputs": [],
   "source": [
    "filtered_data = data#[data['total_units'] > 50]\n",
    "filtered_data = filtered_data[filtered_data['learners_count'] >= 70]\n",
    "filtered_data = filtered_data[filtered_data['lessons_count'] >= 10]\n",
    "filtered_data = filtered_data[filtered_data['quizzes_count'] >= 5]\n",
    "\n",
    "#filtered_data = filtered_data[filtered_data['total_units'] < 3000]\n",
    "#filtered_data = filtered_data[filtered_data['learners_count'] < 10000]"
   ]
  },
  {
   "cell_type": "code",
   "execution_count": 201,
   "metadata": {},
   "outputs": [
    {
     "data": {
      "text/plain": [
       "(4, 111)"
      ]
     },
     "execution_count": 201,
     "metadata": {},
     "output_type": "execute_result"
    }
   ],
   "source": [
    "filtered_data.shape"
   ]
  },
  {
   "cell_type": "code",
   "execution_count": 198,
   "metadata": {},
   "outputs": [
    {
     "data": {
      "text/html": [
       "<div>\n",
       "<style scoped>\n",
       "    .dataframe tbody tr th:only-of-type {\n",
       "        vertical-align: middle;\n",
       "    }\n",
       "\n",
       "    .dataframe tbody tr th {\n",
       "        vertical-align: top;\n",
       "    }\n",
       "\n",
       "    .dataframe thead th {\n",
       "        text-align: right;\n",
       "    }\n",
       "</style>\n",
       "<table border=\"1\" class=\"dataframe\">\n",
       "  <thead>\n",
       "    <tr style=\"text-align: right;\">\n",
       "      <th></th>\n",
       "      <th>id</th>\n",
       "      <th>total_units</th>\n",
       "      <th>learners_count</th>\n",
       "      <th>lessons_count</th>\n",
       "      <th>quizzes_count</th>\n",
       "    </tr>\n",
       "  </thead>\n",
       "  <tbody>\n",
       "    <tr>\n",
       "      <th>122</th>\n",
       "      <td>68091</td>\n",
       "      <td>41</td>\n",
       "      <td>73</td>\n",
       "      <td>41</td>\n",
       "      <td>37</td>\n",
       "    </tr>\n",
       "    <tr>\n",
       "      <th>336</th>\n",
       "      <td>66792</td>\n",
       "      <td>17</td>\n",
       "      <td>84</td>\n",
       "      <td>17</td>\n",
       "      <td>100</td>\n",
       "    </tr>\n",
       "    <tr>\n",
       "      <th>353</th>\n",
       "      <td>66689</td>\n",
       "      <td>10</td>\n",
       "      <td>78</td>\n",
       "      <td>10</td>\n",
       "      <td>10</td>\n",
       "    </tr>\n",
       "  </tbody>\n",
       "</table>\n",
       "</div>"
      ],
      "text/plain": [
       "        id  total_units  learners_count  lessons_count  quizzes_count\n",
       "122  68091           41              73             41             37\n",
       "336  66792           17              84             17            100\n",
       "353  66689           10              78             10             10"
      ]
     },
     "execution_count": 198,
     "metadata": {},
     "output_type": "execute_result"
    }
   ],
   "source": [
    "filtered_data[['id', 'total_units', 'learners_count', 'lessons_count', 'quizzes_count']]"
   ]
  },
  {
   "cell_type": "code",
   "execution_count": 193,
   "metadata": {},
   "outputs": [
    {
     "data": {
      "image/png": "[encoded data removed]",
      "text/plain": [
       "<Figure size 864x504 with 4 Axes>"
      ]
     },
     "metadata": {
      "needs_background": "light"
     },
     "output_type": "display_data"
    },
    {
     "name": "stdout",
     "output_type": "stream",
     "text": [
      "(3, 111)\n"
     ]
    }
   ],
   "source": [
    "fig, ((ax1, ax2), (ax3, ax4)) = plt.subplots(2, 2, figsize=(12, 7))\n",
    "fig.suptitle('Мониторинг изменений')\n",
    "ax1.boxplot(filtered_data['total_units'], vert=False)\n",
    "ax1.set_title('total_units')\n",
    "ax2.boxplot(filtered_data['learners_count'], vert=False)\n",
    "ax2.set_title('learners_count')\n",
    "ax3.boxplot(filtered_data['lessons_count'], vert=False)\n",
    "ax3.set_title('lessons_count')\n",
    "ax4.boxplot(filtered_data['quizzes_count'], vert=False)\n",
    "ax4.set_title('quizzes_count')\n",
    "\n",
    "plt.show()\n",
    "print(filtered_data.shape)"
   ]
  }
 ],
 "metadata": {
  "kernelspec": {
   "display_name": "Python 3",
   "language": "python",
   "name": "python3"
  },
  "language_info": {
   "codemirror_mode": {
    "name": "ipython",
    "version": 3
   },
   "file_extension": ".py",
   "mimetype": "text/x-python",
   "name": "python",
   "nbconvert_exporter": "python",
   "pygments_lexer": "ipython3",
   "version": "3.7.6"
  }
 },
 "nbformat": 4,
 "nbformat_minor": 4
}
